{
 "cells": [
  {
   "cell_type": "code",
   "execution_count": 1,
   "id": "c979aebe-f644-4e44-9d8f-a6e03d993cab",
   "metadata": {},
   "outputs": [],
   "source": [
    " a = 10\n"
   ]
  },
  {
   "cell_type": "code",
   "execution_count": 2,
   "id": "c80239ef-759f-4b1c-8711-cdab9efcb4a3",
   "metadata": {},
   "outputs": [
    {
     "name": "stdout",
     "output_type": "stream",
     "text": [
      "10\n"
     ]
    }
   ],
   "source": [
    "print (a)"
   ]
  },
  {
   "cell_type": "code",
   "execution_count": 3,
   "id": "78368579-1d48-49bd-a1c3-0391f8824894",
   "metadata": {},
   "outputs": [
    {
     "name": "stdout",
     "output_type": "stream",
     "text": [
      "140734799529032\n"
     ]
    }
   ],
   "source": [
    "print(id(a))"
   ]
  },
  {
   "cell_type": "code",
   "execution_count": 4,
   "id": "54fc0283-2355-4b20-9c46-e2ac02290805",
   "metadata": {},
   "outputs": [
    {
     "name": "stdout",
     "output_type": "stream",
     "text": [
      "140734799529032 140734799529032\n"
     ]
    }
   ],
   "source": [
    "a= 10\n",
    "b = 10\n",
    "print(id(a),id(b))"
   ]
  },
  {
   "cell_type": "code",
   "execution_count": 5,
   "id": "4e60babf-7367-484b-b16e-da4cab71c830",
   "metadata": {},
   "outputs": [
    {
     "name": "stdout",
     "output_type": "stream",
     "text": [
      "hello\n"
     ]
    }
   ],
   "source": [
    "c = \"hello\"\n",
    "print (c)"
   ]
  },
  {
   "cell_type": "code",
   "execution_count": 6,
   "id": "c5835233-5878-4846-a24e-06f3df9ad766",
   "metadata": {},
   "outputs": [],
   "source": [
    "#stringConcatenation"
   ]
  },
  {
   "cell_type": "code",
   "execution_count": 7,
   "id": "e486173a-514d-4668-9604-575885e8175d",
   "metadata": {},
   "outputs": [],
   "source": [
    "a= \"Hello\"\n",
    "b = \"Wscubetech\""
   ]
  },
  {
   "cell_type": "code",
   "execution_count": 8,
   "id": "4d2740b2-ae61-4d43-b7e0-8a8882cde828",
   "metadata": {},
   "outputs": [
    {
     "name": "stdout",
     "output_type": "stream",
     "text": [
      "HelloWscubetech\n"
     ]
    }
   ],
   "source": [
    "print (a+b)"
   ]
  },
  {
   "cell_type": "code",
   "execution_count": 11,
   "id": "2228fec1-0c8e-4b41-88cc-af794fa338c9",
   "metadata": {},
   "outputs": [
    {
     "name": "stdout",
     "output_type": "stream",
     "text": [
      "Bishwas Manu\n"
     ]
    }
   ],
   "source": [
    "c = \"Bishwas\"\n",
    "d = \"Manu\"\n",
    "print(c+\" \"+d)"
   ]
  },
  {
   "cell_type": "code",
   "execution_count": 12,
   "id": "231a0b8a-f904-44c3-824e-ec40cee5e91e",
   "metadata": {},
   "outputs": [
    {
     "name": "stdout",
     "output_type": "stream",
     "text": [
      "40\n"
     ]
    }
   ],
   "source": [
    " c= 20\n",
    "print (c+20)"
   ]
  },
  {
   "cell_type": "code",
   "execution_count": 13,
   "id": "e8133f94-ba67-442d-9be9-6f1da374b6fc",
   "metadata": {},
   "outputs": [],
   "source": [
    "#Arithmetic Operators"
   ]
  },
  {
   "cell_type": "code",
   "execution_count": 14,
   "id": "30f5d10a-1988-4710-8f71-6b53a9126860",
   "metadata": {},
   "outputs": [],
   "source": [
    "a =10\n"
   ]
  },
  {
   "cell_type": "code",
   "execution_count": 15,
   "id": "f1c0c212-60f3-494b-99c2-93348bff8de0",
   "metadata": {},
   "outputs": [],
   "source": [
    "b = 20\n"
   ]
  },
  {
   "cell_type": "code",
   "execution_count": 16,
   "id": "d66ae607-2ad9-4e38-9b65-9df9cbe71f3e",
   "metadata": {},
   "outputs": [
    {
     "name": "stdout",
     "output_type": "stream",
     "text": [
      "30\n"
     ]
    }
   ],
   "source": [
    "print(a+b)"
   ]
  },
  {
   "cell_type": "code",
   "execution_count": 17,
   "id": "328c5d3e-b22d-4049-b6b7-3e397d8515b2",
   "metadata": {},
   "outputs": [
    {
     "name": "stdout",
     "output_type": "stream",
     "text": [
      "10\n"
     ]
    }
   ],
   "source": [
    "print(b-a)"
   ]
  },
  {
   "cell_type": "code",
   "execution_count": 18,
   "id": "c2a212d6-30bb-4dc2-8fbe-d16dec5d3bbd",
   "metadata": {},
   "outputs": [
    {
     "name": "stdout",
     "output_type": "stream",
     "text": [
      "2.0\n"
     ]
    }
   ],
   "source": [
    "print (b/a)"
   ]
  },
  {
   "cell_type": "code",
   "execution_count": 19,
   "id": "855d89ad-3abe-4924-9015-ada1b055682f",
   "metadata": {},
   "outputs": [
    {
     "name": "stdout",
     "output_type": "stream",
     "text": [
      "200\n"
     ]
    }
   ],
   "source": [
    "print (a*b)"
   ]
  },
  {
   "cell_type": "code",
   "execution_count": 20,
   "id": "66e75032-650f-4be3-9eb9-a0c9938bb08a",
   "metadata": {},
   "outputs": [
    {
     "name": "stdout",
     "output_type": "stream",
     "text": [
      "10\n"
     ]
    }
   ],
   "source": [
    "print (a%b)"
   ]
  },
  {
   "cell_type": "code",
   "execution_count": 21,
   "id": "eb96edea-d9a9-4732-a762-16aed645503a",
   "metadata": {},
   "outputs": [],
   "source": [
    "a = 9"
   ]
  },
  {
   "cell_type": "code",
   "execution_count": 22,
   "id": "593d36c0-0121-4b66-9114-1cab4cd72803",
   "metadata": {},
   "outputs": [],
   "source": [
    "b = 2"
   ]
  },
  {
   "cell_type": "code",
   "execution_count": 23,
   "id": "a04f96fb-e66f-4670-8441-a04f12a1ebca",
   "metadata": {},
   "outputs": [
    {
     "name": "stdout",
     "output_type": "stream",
     "text": [
      "1\n"
     ]
    }
   ],
   "source": [
    "print (a%b)"
   ]
  },
  {
   "cell_type": "code",
   "execution_count": 24,
   "id": "7fbf07df-d967-4474-9203-e4cf1a79498d",
   "metadata": {},
   "outputs": [],
   "source": [
    "a = 2"
   ]
  },
  {
   "cell_type": "code",
   "execution_count": 25,
   "id": "a2a94d70-3797-40e8-a36a-84bff383665c",
   "metadata": {},
   "outputs": [
    {
     "name": "stdout",
     "output_type": "stream",
     "text": [
      "8\n"
     ]
    }
   ],
   "source": [
    "print (a**3)"
   ]
  },
  {
   "cell_type": "code",
   "execution_count": 26,
   "id": "372949b2-6ec3-4be2-968b-537414b2dce6",
   "metadata": {},
   "outputs": [
    {
     "name": "stdout",
     "output_type": "stream",
     "text": [
      "3\n"
     ]
    }
   ],
   "source": [
    "print(10//3) #3.33333333"
   ]
  },
  {
   "cell_type": "code",
   "execution_count": 27,
   "id": "7c7a1430-568b-4dae-b7c6-973879566672",
   "metadata": {},
   "outputs": [],
   "source": [
    " #Assignment Operator\n",
    "x= 5"
   ]
  },
  {
   "cell_type": "code",
   "execution_count": 28,
   "id": "0f49bbc9-956c-4ecc-bffc-d7707951e641",
   "metadata": {},
   "outputs": [
    {
     "name": "stdout",
     "output_type": "stream",
     "text": [
      "5\n"
     ]
    }
   ],
   "source": [
    "print(x)"
   ]
  },
  {
   "cell_type": "code",
   "execution_count": 29,
   "id": "31c48c35-eb2e-4e47-a917-127d3c6959f0",
   "metadata": {},
   "outputs": [],
   "source": [
    "x= x+5"
   ]
  },
  {
   "cell_type": "code",
   "execution_count": 30,
   "id": "2c9d682f-1a48-42e0-a797-5cfd435192fb",
   "metadata": {},
   "outputs": [
    {
     "name": "stdout",
     "output_type": "stream",
     "text": [
      "10\n"
     ]
    }
   ],
   "source": [
    "print(x)"
   ]
  },
  {
   "cell_type": "code",
   "execution_count": 31,
   "id": "df3bfc8a-8e97-4619-a1ff-d080d4e35a21",
   "metadata": {},
   "outputs": [],
   "source": [
    "x+= 5\n"
   ]
  },
  {
   "cell_type": "code",
   "execution_count": 32,
   "id": "ba020484-a352-46fb-9291-ab2ea466e55f",
   "metadata": {},
   "outputs": [
    {
     "name": "stdout",
     "output_type": "stream",
     "text": [
      "15\n"
     ]
    }
   ],
   "source": [
    "print(x)"
   ]
  },
  {
   "cell_type": "code",
   "execution_count": 34,
   "id": "15d678c7-41ed-4790-bcd9-2d65e5ea4eed",
   "metadata": {},
   "outputs": [
    {
     "name": "stdout",
     "output_type": "stream",
     "text": [
      "10\n"
     ]
    }
   ],
   "source": [
    "print(x)"
   ]
  },
  {
   "cell_type": "code",
   "execution_count": 35,
   "id": "0f536b47-db07-43f5-ba08-3b44be824db0",
   "metadata": {},
   "outputs": [],
   "source": [
    " x-= 5"
   ]
  },
  {
   "cell_type": "code",
   "execution_count": 36,
   "id": "dbcc379f-5fdc-4c8e-b501-02029c4d81f9",
   "metadata": {},
   "outputs": [
    {
     "name": "stdout",
     "output_type": "stream",
     "text": [
      "5\n"
     ]
    }
   ],
   "source": [
    "print(x)"
   ]
  },
  {
   "cell_type": "code",
   "execution_count": 38,
   "id": "9eba9dc3-f137-42bc-841c-35f1e75eb9a1",
   "metadata": {},
   "outputs": [],
   "source": [
    "#Comparison operator"
   ]
  },
  {
   "cell_type": "code",
   "execution_count": 39,
   "id": "8b7eb55f-184e-4309-b46f-9c55a950c84c",
   "metadata": {},
   "outputs": [],
   "source": [
    " x = 10\n"
   ]
  },
  {
   "cell_type": "code",
   "execution_count": 40,
   "id": "a9db422d-9f57-43d8-ac1e-f3f625ba5dad",
   "metadata": {},
   "outputs": [],
   "source": [
    "y = 10"
   ]
  },
  {
   "cell_type": "code",
   "execution_count": 41,
   "id": "966c8ac5-c7a0-4c6b-acf9-8a4daf1933a8",
   "metadata": {},
   "outputs": [
    {
     "name": "stdout",
     "output_type": "stream",
     "text": [
      "True\n"
     ]
    }
   ],
   "source": [
    "print(x==y)"
   ]
  },
  {
   "cell_type": "code",
   "execution_count": 42,
   "id": "0845e31e-ebaf-4d7e-9a19-558a102f49e2",
   "metadata": {},
   "outputs": [],
   "source": [
    "x = 5"
   ]
  },
  {
   "cell_type": "code",
   "execution_count": 43,
   "id": "6c073e46-0a45-4492-bb38-b72ff92d0e6d",
   "metadata": {},
   "outputs": [],
   "source": [
    "y=4"
   ]
  },
  {
   "cell_type": "code",
   "execution_count": 44,
   "id": "77a6744a-5d5a-4aad-b628-1d8a68b91016",
   "metadata": {},
   "outputs": [
    {
     "name": "stdout",
     "output_type": "stream",
     "text": [
      "False\n"
     ]
    }
   ],
   "source": [
    "print (x==y)"
   ]
  },
  {
   "cell_type": "code",
   "execution_count": 2,
   "id": "51ef9641-9e01-4024-b9b4-2b943ceaf278",
   "metadata": {},
   "outputs": [],
   "source": [
    " x =3"
   ]
  },
  {
   "cell_type": "code",
   "execution_count": 3,
   "id": "f9bf3d80-357e-425e-9cda-a552efc21be6",
   "metadata": {},
   "outputs": [],
   "source": [
    "y = 2"
   ]
  },
  {
   "cell_type": "code",
   "execution_count": 4,
   "id": "aa99a7d5-6b9f-4081-9f90-cb23c59d13ad",
   "metadata": {},
   "outputs": [
    {
     "name": "stdout",
     "output_type": "stream",
     "text": [
      "True\n"
     ]
    }
   ],
   "source": [
    "print(x!=y)"
   ]
  },
  {
   "cell_type": "code",
   "execution_count": 5,
   "id": "18bd6d40-e419-4fe2-b26e-708afc7ea403",
   "metadata": {},
   "outputs": [
    {
     "name": "stdout",
     "output_type": "stream",
     "text": [
      "True\n"
     ]
    }
   ],
   "source": [
    "print (x>y)"
   ]
  },
  {
   "cell_type": "code",
   "execution_count": 7,
   "id": "52b716b0-1a58-4646-b5bf-14c620f8c896",
   "metadata": {},
   "outputs": [
    {
     "name": "stdout",
     "output_type": "stream",
     "text": [
      "True\n"
     ]
    }
   ],
   "source": [
    "print (y<x)"
   ]
  },
  {
   "cell_type": "raw",
   "id": "15cb9a0f-aca7-4c16-96bd-0c683d8965b6",
   "metadata": {},
   "source": [
    "print(y>x)"
   ]
  },
  {
   "cell_type": "code",
   "execution_count": 8,
   "id": "61f1fa71-91af-4dac-a0e9-72daa0997d92",
   "metadata": {},
   "outputs": [
    {
     "name": "stdout",
     "output_type": "stream",
     "text": [
      "True\n"
     ]
    }
   ],
   "source": [
    "print(x>=y)"
   ]
  },
  {
   "cell_type": "code",
   "execution_count": 9,
   "id": "f8975496-7977-4877-af83-c7c33fdd0c7d",
   "metadata": {},
   "outputs": [
    {
     "name": "stdout",
     "output_type": "stream",
     "text": [
      "False\n"
     ]
    }
   ],
   "source": [
    "print(x<=y)"
   ]
  },
  {
   "cell_type": "code",
   "execution_count": 10,
   "id": "edb64bcc-0ef5-42ff-a64b-e77f3ef45d25",
   "metadata": {},
   "outputs": [
    {
     "name": "stdout",
     "output_type": "stream",
     "text": [
      "False\n"
     ]
    }
   ],
   "source": [
    "print(x==y)"
   ]
  },
  {
   "cell_type": "code",
   "execution_count": 11,
   "id": "fa207b38-20e6-4494-80b9-b49e85282eb2",
   "metadata": {},
   "outputs": [],
   "source": [
    "#logical Operators"
   ]
  },
  {
   "cell_type": "code",
   "execution_count": 12,
   "id": "49509c99-20d2-4138-94eb-bdc9dc615e2f",
   "metadata": {},
   "outputs": [],
   "source": [
    "#Membership Operators"
   ]
  },
  {
   "cell_type": "code",
   "execution_count": 13,
   "id": "dcf75d4e-a6dd-465b-804e-53628b1186f0",
   "metadata": {},
   "outputs": [],
   "source": [
    "string1 = \"Hello\""
   ]
  },
  {
   "cell_type": "code",
   "execution_count": 14,
   "id": "3982638d-6cd6-4ae8-89ad-06cdf6e2665b",
   "metadata": {},
   "outputs": [
    {
     "ename": "NameError",
     "evalue": "name 'string1' is not defined",
     "output_type": "error",
     "traceback": [
      "\u001b[1;31m---------------------------------------------------------------------------\u001b[0m",
      "\u001b[1;31mNameError\u001b[0m                                 Traceback (most recent call last)",
      "Cell \u001b[1;32mIn[14], line 1\u001b[0m\n\u001b[1;32m----> 1\u001b[0m \u001b[38;5;28mprint\u001b[39m (\u001b[38;5;124m'\u001b[39m\u001b[38;5;124mh\u001b[39m\u001b[38;5;124m'\u001b[39m\u001b[38;5;129;01min\u001b[39;00m string1)\n",
      "\u001b[1;31mNameError\u001b[0m: name 'string1' is not defined"
     ]
    }
   ],
   "source": [
    "print ('h'in string1)"
   ]
  },
  {
   "cell_type": "code",
   "execution_count": 15,
   "id": "b02d08b4-fcd9-4b97-8943-469b9235fa27",
   "metadata": {},
   "outputs": [],
   "source": [
    "str= \"Hello\""
   ]
  },
  {
   "cell_type": "code",
   "execution_count": 16,
   "id": "2a2b462c-e1ea-4b71-b4da-4cfdc3695a42",
   "metadata": {},
   "outputs": [
    {
     "name": "stdout",
     "output_type": "stream",
     "text": [
      "False\n"
     ]
    }
   ],
   "source": [
    "print ('h' in str)"
   ]
  },
  {
   "cell_type": "code",
   "execution_count": 17,
   "id": "ace64ba2-15c0-4245-8701-ed81338ae505",
   "metadata": {},
   "outputs": [
    {
     "name": "stdout",
     "output_type": "stream",
     "text": [
      "True\n"
     ]
    }
   ],
   "source": [
    "print ('e' in str)"
   ]
  },
  {
   "cell_type": "code",
   "execution_count": 18,
   "id": "ff5c389a-8fc6-471f-a479-cf347682602f",
   "metadata": {},
   "outputs": [
    {
     "name": "stdout",
     "output_type": "stream",
     "text": [
      "True\n"
     ]
    }
   ],
   "source": [
    "print ('H' in str)"
   ]
  },
  {
   "cell_type": "code",
   "execution_count": 22,
   "id": "eed1d1ec-407f-43b6-ae9f-1e489225dcc1",
   "metadata": {},
   "outputs": [],
   "source": [
    "#identity Operator\n",
    "# is -> Returns True if both variables are the same object x is y\n",
    "# is not ->Returns True if both variables are not the same object x is not y\n"
   ]
  },
  {
   "cell_type": "code",
   "execution_count": 23,
   "id": "8a103c9d-97fa-4d3d-a782-58f18884d706",
   "metadata": {},
   "outputs": [],
   "source": [
    "x=10\n",
    "y =10\n"
   ]
  },
  {
   "cell_type": "code",
   "execution_count": 24,
   "id": "f93500ae-1ac1-4702-b162-c95e755670d5",
   "metadata": {},
   "outputs": [
    {
     "name": "stdout",
     "output_type": "stream",
     "text": [
      "True\n"
     ]
    }
   ],
   "source": [
    "print (x is y)"
   ]
  },
  {
   "cell_type": "code",
   "execution_count": 25,
   "id": "73db1911-c65c-4c80-9406-6717fc665e8b",
   "metadata": {},
   "outputs": [
    {
     "name": "stdout",
     "output_type": "stream",
     "text": [
      "False\n"
     ]
    }
   ],
   "source": [
    "print (x is not y )"
   ]
  },
  {
   "cell_type": "code",
   "execution_count": 26,
   "id": "a48c1c47-b52e-42fb-8488-0ad55375da17",
   "metadata": {},
   "outputs": [
    {
     "name": "stdout",
     "output_type": "stream",
     "text": [
      "False\n"
     ]
    }
   ],
   "source": [
    " x=10\n",
    "y =20\n",
    "print (x is y )"
   ]
  },
  {
   "cell_type": "code",
   "execution_count": 27,
   "id": "93b57f4f-de11-4140-bf1f-b221fc2dedb4",
   "metadata": {},
   "outputs": [],
   "source": [
    "#Bitwise Operator"
   ]
  },
  {
   "cell_type": "code",
   "execution_count": null,
   "id": "da38b0d4-3778-4596-954a-4797d92c32d8",
   "metadata": {},
   "outputs": [],
   "source": []
  }
 ],
 "metadata": {
  "kernelspec": {
   "display_name": "Python 3 (ipykernel)",
   "language": "python",
   "name": "python3"
  },
  "language_info": {
   "codemirror_mode": {
    "name": "ipython",
    "version": 3
   },
   "file_extension": ".py",
   "mimetype": "text/x-python",
   "name": "python",
   "nbconvert_exporter": "python",
   "pygments_lexer": "ipython3",
   "version": "3.11.7"
  }
 },
 "nbformat": 4,
 "nbformat_minor": 5
}
